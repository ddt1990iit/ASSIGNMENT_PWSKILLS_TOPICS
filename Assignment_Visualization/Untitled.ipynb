{
 "cells": [
  {
   "cell_type": "code",
   "execution_count": 2,
   "id": "232df8a2",
   "metadata": {},
   "outputs": [
    {
     "ename": "SyntaxError",
     "evalue": "EOL while scanning string literal (<ipython-input-2-c6500899be99>, line 34)",
     "output_type": "error",
     "traceback": [
      "\u001b[1;36m  File \u001b[1;32m\"<ipython-input-2-c6500899be99>\"\u001b[1;36m, line \u001b[1;32m34\u001b[0m\n\u001b[1;33m    print('Please go to following url in Web Browser\u001b[0m\n\u001b[1;37m                                                    ^\u001b[0m\n\u001b[1;31mSyntaxError\u001b[0m\u001b[1;31m:\u001b[0m EOL while scanning string literal\n"
     ]
    }
   ],
   "source": [
    "import random\n",
    "import bokeh.io\n",
    "from bokeh.server.server import Server\n",
    "from bokeh.application import Application\n",
    "from bokeh.application.handlers.function import FunctionHandler\n",
    "from bokeh.plotting import figure, ColumnDataSource\n",
    "\n",
    "# Showing output inside notebook\n",
    "bokeh.io.output_notebook()\n",
    "\n",
    "def make_document(doc):\n",
    "    source = ColumnDataSource({'x': [], 'y': [], 'color': []})\n",
    "\n",
    "    def update():\n",
    "        new = {'x': [random.random()],\n",
    "               'y': [random.random()],\n",
    "               'color': [random.choice(['red', 'blue', 'green'])]}\n",
    "        source.stream(new)\n",
    "\n",
    "    doc.add_periodic_callback(update, 100)\n",
    "\n",
    "    fig = figure(title='Streaming Circle Plot!', sizing_mode='scale_width',\n",
    "                 x_range=[0, 1], y_range=[0, 1])\n",
    "    fig.circle(source=source, x='x', y='y', color='color', size=10)\n",
    "\n",
    "    doc.title = \"Now with live updating!\"\n",
    "    doc.add_root(fig)\n",
    "    \n",
    "apps = {'/': Application(FunctionHandler(make_document))}\n",
    "\n",
    "server = Server(apps, port=5001)\n",
    "server.start()\n",
    "\n",
    "print('Please go to following url in Web Browser"
   ]
  },
  {
   "cell_type": "code",
   "execution_count": null,
   "id": "d1cc756a",
   "metadata": {},
   "outputs": [],
   "source": []
  }
 ],
 "metadata": {
  "kernelspec": {
   "display_name": "Python 3",
   "language": "python",
   "name": "python3"
  },
  "language_info": {
   "codemirror_mode": {
    "name": "ipython",
    "version": 3
   },
   "file_extension": ".py",
   "mimetype": "text/x-python",
   "name": "python",
   "nbconvert_exporter": "python",
   "pygments_lexer": "ipython3",
   "version": "3.8.8"
  }
 },
 "nbformat": 4,
 "nbformat_minor": 5
}
